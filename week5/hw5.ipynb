{
  "nbformat": 4,
  "nbformat_minor": 0,
  "metadata": {
    "colab": {
      "name": "hw5",
      "provenance": []
    },
    "kernelspec": {
      "name": "python3",
      "display_name": "Python 3"
    },
    "language_info": {
      "name": "python"
    }
  },
  "cells": [
    {
      "cell_type": "code",
      "execution_count": 1,
      "metadata": {
        "id": "QKazmjXaS5ll"
      },
      "outputs": [],
      "source": [
        "!apt-get install openjdk-8-jdk-headless -qq > /dev/null\n",
        "!wget -q https://archive.apache.org/dist/spark/spark-3.0.3/spark-3.0.3-bin-hadoop2.7.tgz\n",
        "!tar xf spark-3.0.3-bin-hadoop2.7.tgz\n",
        "!pip install -q findspark"
      ]
    },
    {
      "cell_type": "code",
      "source": [
        "import os\n",
        "os.environ[\"JAVA_HOME\"] = \"/usr/lib/jvm/java-8-openjdk-amd64\"\n",
        "os.environ[\"SPARK_HOME\"] = \"/content/spark-3.0.3-bin-hadoop2.7\""
      ],
      "metadata": {
        "id": "ifITCpfhS7p-"
      },
      "execution_count": 2,
      "outputs": []
    },
    {
      "cell_type": "code",
      "source": [
        "import findspark\n",
        "findspark.init()\n",
        "from pyspark.sql import SparkSession\n",
        "spark = SparkSession.builder.master(\"local[*]\").getOrCreate()"
      ],
      "metadata": {
        "id": "mzrqdUnQTLHb"
      },
      "execution_count": 3,
      "outputs": []
    },
    {
      "cell_type": "code",
      "source": [
        "from pyspark.sql import SparkSession"
      ],
      "metadata": {
        "id": "7dJ4Ny5KTMYi"
      },
      "execution_count": 4,
      "outputs": []
    },
    {
      "cell_type": "code",
      "source": [
        "spark = SparkSession.builder \\\n",
        "   .appName(\"Neural Network Model\") \\\n",
        "   .config(\"spark.executor.memory\", \"3gb\") \\\n",
        "   .getOrCreate()\n",
        "   \n",
        "sc = spark.sparkContext"
      ],
      "metadata": {
        "id": "hBbkJ3N-TPYq"
      },
      "execution_count": 5,
      "outputs": []
    },
    {
      "cell_type": "code",
      "source": [
        "sc"
      ],
      "metadata": {
        "colab": {
          "base_uri": "https://localhost:8080/",
          "height": 196
        },
        "id": "c5p5HKMsTRUq",
        "outputId": "8a65c0c0-7adf-4af3-b906-a55ae51bc7c2"
      },
      "execution_count": 6,
      "outputs": [
        {
          "output_type": "execute_result",
          "data": {
            "text/html": [
              "\n",
              "        <div>\n",
              "            <p><b>SparkContext</b></p>\n",
              "\n",
              "            <p><a href=\"http://0258611133c1:4040\">Spark UI</a></p>\n",
              "\n",
              "            <dl>\n",
              "              <dt>Version</dt>\n",
              "                <dd><code>v3.0.3</code></dd>\n",
              "              <dt>Master</dt>\n",
              "                <dd><code>local[*]</code></dd>\n",
              "              <dt>AppName</dt>\n",
              "                <dd><code>pyspark-shell</code></dd>\n",
              "            </dl>\n",
              "        </div>\n",
              "        "
            ],
            "text/plain": [
              "<SparkContext master=local[*] appName=pyspark-shell>"
            ]
          },
          "metadata": {},
          "execution_count": 6
        }
      ]
    },
    {
      "cell_type": "code",
      "source": [
        "spark.version"
      ],
      "metadata": {
        "colab": {
          "base_uri": "https://localhost:8080/",
          "height": 35
        },
        "id": "xZaSfXmfTSya",
        "outputId": "99f2dcf8-a6cb-4d13-ef1b-ba3891f576d1"
      },
      "execution_count": 7,
      "outputs": [
        {
          "output_type": "execute_result",
          "data": {
            "application/vnd.google.colaboratory.intrinsic+json": {
              "type": "string"
            },
            "text/plain": [
              "'3.0.3'"
            ]
          },
          "metadata": {},
          "execution_count": 7
        }
      ]
    },
    {
      "cell_type": "code",
      "source": [
        "!wget https://nyc-tlc.s3.amazonaws.com/trip+data/fhvhv_tripdata_2021-02.csv"
      ],
      "metadata": {
        "colab": {
          "base_uri": "https://localhost:8080/"
        },
        "id": "6euCRu9BTV6K",
        "outputId": "b5c104bd-25af-44f5-f9e1-342a71e4d041"
      },
      "execution_count": 8,
      "outputs": [
        {
          "output_type": "stream",
          "name": "stdout",
          "text": [
            "--2022-03-01 12:30:30--  https://nyc-tlc.s3.amazonaws.com/trip+data/fhvhv_tripdata_2021-02.csv\n",
            "Resolving nyc-tlc.s3.amazonaws.com (nyc-tlc.s3.amazonaws.com)... 52.217.227.177\n",
            "Connecting to nyc-tlc.s3.amazonaws.com (nyc-tlc.s3.amazonaws.com)|52.217.227.177|:443... connected.\n",
            "HTTP request sent, awaiting response... 200 OK\n",
            "Length: 733822658 (700M) [text/csv]\n",
            "Saving to: ‘fhvhv_tripdata_2021-02.csv.1’\n",
            "\n",
            "fhvhv_tripdata_2021 100%[===================>] 699.83M  68.0MB/s    in 10s     \n",
            "\n",
            "2022-03-01 12:30:41 (68.6 MB/s) - ‘fhvhv_tripdata_2021-02.csv.1’ saved [733822658/733822658]\n",
            "\n"
          ]
        }
      ]
    },
    {
      "cell_type": "code",
      "source": [
        "import pandas as pd\n",
        "import pyspark\n",
        "from pyspark.sql import types, SparkSession, functions as F"
      ],
      "metadata": {
        "id": "jGLs06ziUVR3"
      },
      "execution_count": 9,
      "outputs": []
    },
    {
      "cell_type": "code",
      "source": [
        "schema = types.StructType([\n",
        "    types.StructField('hvfhs_license_num', types.StringType(), True),\n",
        "    types.StructField('dispatching_base_num', types.StringType(), True),\n",
        "    types.StructField('pickup_datetime', types.TimestampType(), True),\n",
        "    types.StructField('dropoff_datetime', types.TimestampType(), True),\n",
        "    types.StructField('PULocationID', types.IntegerType(), True),\n",
        "    types.StructField('DOLocationID', types.IntegerType(), True),\n",
        "    types.StructField('SR_Flag', types.StringType(), True)\n",
        "])"
      ],
      "metadata": {
        "id": "iLpso3C3UHTh"
      },
      "execution_count": 10,
      "outputs": []
    },
    {
      "cell_type": "code",
      "source": [
        "df = spark.read \\\n",
        "    .option(\"header\", \"true\") \\\n",
        "    .schema(schema) \\\n",
        "    .csv('/content/fhvhv_tripdata_2021-02.csv')\n",
        "df.printSchema()"
      ],
      "metadata": {
        "colab": {
          "base_uri": "https://localhost:8080/"
        },
        "id": "OnS-o-ZHUXoh",
        "outputId": "4490264b-ff8c-498e-c844-113bcd2c3f2d"
      },
      "execution_count": 11,
      "outputs": [
        {
          "output_type": "stream",
          "name": "stdout",
          "text": [
            "root\n",
            " |-- hvfhs_license_num: string (nullable = true)\n",
            " |-- dispatching_base_num: string (nullable = true)\n",
            " |-- pickup_datetime: timestamp (nullable = true)\n",
            " |-- dropoff_datetime: timestamp (nullable = true)\n",
            " |-- PULocationID: integer (nullable = true)\n",
            " |-- DOLocationID: integer (nullable = true)\n",
            " |-- SR_Flag: string (nullable = true)\n",
            "\n"
          ]
        }
      ]
    },
    {
      "cell_type": "code",
      "source": [
        "df.repartition(24) \\\n",
        "    .write.parquet('parquet/')"
      ],
      "metadata": {
        "id": "mQfmWDzBUZFR"
      },
      "execution_count": 12,
      "outputs": []
    },
    {
      "cell_type": "code",
      "source": [
        "df_fhvhv = spark.read.parquet('/content/parquet/*')"
      ],
      "metadata": {
        "id": "T_qc46D0Uj5I"
      },
      "execution_count": 15,
      "outputs": []
    },
    {
      "cell_type": "code",
      "source": [
        "df_fhvhv.columns"
      ],
      "metadata": {
        "colab": {
          "base_uri": "https://localhost:8080/"
        },
        "id": "muPVA_ALYKlF",
        "outputId": "20402606-a230-4df4-87ca-93b6923dc409"
      },
      "execution_count": 16,
      "outputs": [
        {
          "output_type": "execute_result",
          "data": {
            "text/plain": [
              "['hvfhs_license_num',\n",
              " 'dispatching_base_num',\n",
              " 'pickup_datetime',\n",
              " 'dropoff_datetime',\n",
              " 'PULocationID',\n",
              " 'DOLocationID',\n",
              " 'SR_Flag']"
            ]
          },
          "metadata": {},
          "execution_count": 16
        }
      ]
    },
    {
      "cell_type": "code",
      "source": [
        "df_fhvhv = df_fhvhv \\\n",
        "    .withColumn('pickup_date', F.to_date('pickup_datetime'))"
      ],
      "metadata": {
        "id": "Tbic5X6HYMz1"
      },
      "execution_count": 17,
      "outputs": []
    },
    {
      "cell_type": "code",
      "source": [
        "df_fhvhv.printSchema()\n",
        "df_fhvhv.show(10)"
      ],
      "metadata": {
        "colab": {
          "base_uri": "https://localhost:8080/"
        },
        "id": "6K8Z1YshYOW0",
        "outputId": "0fed4ab6-cceb-40d3-f568-cec99981f20e"
      },
      "execution_count": 18,
      "outputs": [
        {
          "output_type": "stream",
          "name": "stdout",
          "text": [
            "root\n",
            " |-- hvfhs_license_num: string (nullable = true)\n",
            " |-- dispatching_base_num: string (nullable = true)\n",
            " |-- pickup_datetime: timestamp (nullable = true)\n",
            " |-- dropoff_datetime: timestamp (nullable = true)\n",
            " |-- PULocationID: integer (nullable = true)\n",
            " |-- DOLocationID: integer (nullable = true)\n",
            " |-- SR_Flag: string (nullable = true)\n",
            " |-- pickup_date: date (nullable = true)\n",
            "\n",
            "+-----------------+--------------------+-------------------+-------------------+------------+------------+-------+-----------+\n",
            "|hvfhs_license_num|dispatching_base_num|    pickup_datetime|   dropoff_datetime|PULocationID|DOLocationID|SR_Flag|pickup_date|\n",
            "+-----------------+--------------------+-------------------+-------------------+------------+------------+-------+-----------+\n",
            "|           HV0003|              B02887|2021-02-06 01:18:35|2021-02-06 01:40:34|         163|         235|   null| 2021-02-06|\n",
            "|           HV0005|              B02510|2021-02-05 07:13:06|2021-02-05 07:31:56|         225|         181|   null| 2021-02-05|\n",
            "|           HV0003|              B02869|2021-02-04 16:56:52|2021-02-04 17:21:36|         260|          95|   null| 2021-02-04|\n",
            "|           HV0003|              B02871|2021-02-03 18:34:17|2021-02-03 18:57:12|         235|          60|   null| 2021-02-03|\n",
            "|           HV0003|              B02869|2021-02-04 07:25:09|2021-02-04 07:30:34|          55|          55|   null| 2021-02-04|\n",
            "|           HV0003|              B02836|2021-02-04 23:15:27|2021-02-04 23:34:29|          74|          81|   null| 2021-02-04|\n",
            "|           HV0003|              B02882|2021-02-05 07:45:49|2021-02-05 08:05:03|         239|         231|   null| 2021-02-05|\n",
            "|           HV0003|              B02887|2021-02-03 17:33:59|2021-02-03 17:47:14|          95|         196|   null| 2021-02-03|\n",
            "|           HV0003|              B02877|2021-02-03 09:33:06|2021-02-03 09:45:59|         241|         265|   null| 2021-02-03|\n",
            "|           HV0003|              B02872|2021-02-02 12:58:46|2021-02-02 13:06:20|          90|         137|   null| 2021-02-02|\n",
            "+-----------------+--------------------+-------------------+-------------------+------------+------------+-------+-----------+\n",
            "only showing top 10 rows\n",
            "\n"
          ]
        }
      ]
    },
    {
      "cell_type": "code",
      "source": [
        "df_fhvhv.registerTempTable('trips_data')"
      ],
      "metadata": {
        "id": "xtKa_98cYRt0"
      },
      "execution_count": 19,
      "outputs": []
    },
    {
      "cell_type": "code",
      "source": [
        "spark.sql(\"\"\"\n",
        "SELECT \n",
        "    COUNT(*) AS trips\n",
        "FROM \n",
        "    trips_data\n",
        "WHERE \n",
        "    pickup_date == '2021-02-15'\n",
        "\"\"\").show()"
      ],
      "metadata": {
        "colab": {
          "base_uri": "https://localhost:8080/"
        },
        "id": "X0gw4niTYVbE",
        "outputId": "dea4e6fe-4f67-4334-b495-2b3279e04baf"
      },
      "execution_count": 20,
      "outputs": [
        {
          "output_type": "stream",
          "name": "stdout",
          "text": [
            "+------+\n",
            "| trips|\n",
            "+------+\n",
            "|367170|\n",
            "+------+\n",
            "\n"
          ]
        }
      ]
    },
    {
      "cell_type": "code",
      "source": [
        "spark.sql(\"\"\"\n",
        "SELECT \n",
        "    pickup_date,\n",
        "    pickup_datetime,\n",
        "    dropoff_datetime,\n",
        "    (dropoff_datetime - pickup_datetime) AS trip_duration,\n",
        "    (BIGINT(dropoff_datetime) - BIGINT(pickup_datetime)) AS trip_duration_int\n",
        "FROM \n",
        "    trips_data\n",
        "ORDER BY \n",
        "    trip_duration_int DESC\n",
        "\"\"\").show(10)"
      ],
      "metadata": {
        "colab": {
          "base_uri": "https://localhost:8080/"
        },
        "id": "Opj9yRP4YWxk",
        "outputId": "3f4ba6b3-4657-4795-ac54-771ef6ae3a0f"
      },
      "execution_count": 21,
      "outputs": [
        {
          "output_type": "stream",
          "name": "stdout",
          "text": [
            "+-----------+-------------------+-------------------+--------------------+-----------------+\n",
            "|pickup_date|    pickup_datetime|   dropoff_datetime|       trip_duration|trip_duration_int|\n",
            "+-----------+-------------------+-------------------+--------------------+-----------------+\n",
            "| 2021-02-11|2021-02-11 13:40:44|2021-02-12 10:39:44| 20 hours 59 minutes|            75540|\n",
            "| 2021-02-17|2021-02-17 15:54:53|2021-02-18 07:48:34|15 hours 53 minut...|            57221|\n",
            "| 2021-02-20|2021-02-20 12:08:15|2021-02-21 00:22:14|12 hours 13 minut...|            44039|\n",
            "| 2021-02-03|2021-02-03 20:24:25|2021-02-04 07:41:58|11 hours 17 minut...|            40653|\n",
            "| 2021-02-19|2021-02-19 23:17:44|2021-02-20 09:44:01|10 hours 26 minut...|            37577|\n",
            "| 2021-02-25|2021-02-25 17:13:35|2021-02-26 02:57:05|9 hours 43 minute...|            35010|\n",
            "| 2021-02-20|2021-02-20 01:36:13|2021-02-20 11:16:19|9 hours 40 minute...|            34806|\n",
            "| 2021-02-18|2021-02-18 15:24:19|2021-02-19 01:01:11|9 hours 36 minute...|            34612|\n",
            "| 2021-02-18|2021-02-18 01:31:20|2021-02-18 11:07:15|9 hours 35 minute...|            34555|\n",
            "| 2021-02-10|2021-02-10 20:51:39|2021-02-11 06:21:08|9 hours 29 minute...|            34169|\n",
            "+-----------+-------------------+-------------------+--------------------+-----------------+\n",
            "only showing top 10 rows\n",
            "\n"
          ]
        }
      ]
    },
    {
      "cell_type": "code",
      "source": [
        "spark.sql(\"\"\"\n",
        "SELECT \n",
        "    dispatching_base_num,\n",
        "    COUNT(*) AS trips\n",
        "FROM \n",
        "    trips_data\n",
        "GROUP BY \n",
        "    dispatching_base_num\n",
        "ORDER BY \n",
        "    trips DESC\n",
        "\"\"\").show(10)"
      ],
      "metadata": {
        "colab": {
          "base_uri": "https://localhost:8080/"
        },
        "id": "Pb9sU7vmYeAr",
        "outputId": "d4ebe53f-79e7-4405-f7bb-404daac28f74"
      },
      "execution_count": 22,
      "outputs": [
        {
          "output_type": "stream",
          "name": "stdout",
          "text": [
            "+--------------------+-------+\n",
            "|dispatching_base_num|  trips|\n",
            "+--------------------+-------+\n",
            "|              B02510|3233664|\n",
            "|              B02764| 965568|\n",
            "|              B02872| 882689|\n",
            "|              B02875| 685390|\n",
            "|              B02765| 559768|\n",
            "|              B02869| 429720|\n",
            "|              B02887| 322331|\n",
            "|              B02871| 312364|\n",
            "|              B02864| 311603|\n",
            "|              B02866| 311089|\n",
            "+--------------------+-------+\n",
            "only showing top 10 rows\n",
            "\n"
          ]
        }
      ]
    },
    {
      "cell_type": "code",
      "source": [
        "!wget --directory-prefix=data/raw/zones https://s3.amazonaws.com/nyc-tlc/misc/taxi+_zone_lookup.csv"
      ],
      "metadata": {
        "colab": {
          "base_uri": "https://localhost:8080/"
        },
        "id": "HOFNiMKjYh7s",
        "outputId": "01ae7153-0c7e-4311-8a4b-1648162df387"
      },
      "execution_count": 23,
      "outputs": [
        {
          "output_type": "stream",
          "name": "stdout",
          "text": [
            "--2022-03-01 13:19:40--  https://s3.amazonaws.com/nyc-tlc/misc/taxi+_zone_lookup.csv\n",
            "Resolving s3.amazonaws.com (s3.amazonaws.com)... 54.231.135.40\n",
            "Connecting to s3.amazonaws.com (s3.amazonaws.com)|54.231.135.40|:443... connected.\n",
            "HTTP request sent, awaiting response... 200 OK\n",
            "Length: 12322 (12K) [application/octet-stream]\n",
            "Saving to: ‘data/raw/zones/taxi+_zone_lookup.csv.1’\n",
            "\n",
            "\rtaxi+_zone_lookup.c   0%[                    ]       0  --.-KB/s               \rtaxi+_zone_lookup.c 100%[===================>]  12.03K  --.-KB/s    in 0s      \n",
            "\n",
            "2022-03-01 13:19:40 (130 MB/s) - ‘data/raw/zones/taxi+_zone_lookup.csv.1’ saved [12322/12322]\n",
            "\n"
          ]
        }
      ]
    },
    {
      "cell_type": "code",
      "source": [
        "zones_schema = types.StructType([\n",
        "    types.StructField('LocationID', types.IntegerType(), True),\n",
        "    types.StructField('Borough', types.StringType(), True),\n",
        "    types.StructField('Zone', types.StringType(), True),\n",
        "    types.StructField('service_zone', types.StringType(), True),\n",
        "])"
      ],
      "metadata": {
        "id": "joITZV6fYluk"
      },
      "execution_count": 24,
      "outputs": []
    },
    {
      "cell_type": "code",
      "source": [
        "df_zones = spark.read \\\n",
        "    .option(\"header\", \"true\") \\\n",
        "    .schema(zones_schema) \\\n",
        "    .csv('data/raw/zones/taxi+_zone_lookup.csv')"
      ],
      "metadata": {
        "id": "Sg_rO753YnY1"
      },
      "execution_count": 25,
      "outputs": []
    },
    {
      "cell_type": "code",
      "source": [
        "df_zones.printSchema()\n",
        "df_zones.show(10)"
      ],
      "metadata": {
        "colab": {
          "base_uri": "https://localhost:8080/"
        },
        "id": "FuPeNjaQYqXE",
        "outputId": "8923d24a-1493-4eb5-b3e3-c994efbd0c0e"
      },
      "execution_count": 26,
      "outputs": [
        {
          "output_type": "stream",
          "name": "stdout",
          "text": [
            "root\n",
            " |-- LocationID: integer (nullable = true)\n",
            " |-- Borough: string (nullable = true)\n",
            " |-- Zone: string (nullable = true)\n",
            " |-- service_zone: string (nullable = true)\n",
            "\n",
            "+----------+-------------+--------------------+------------+\n",
            "|LocationID|      Borough|                Zone|service_zone|\n",
            "+----------+-------------+--------------------+------------+\n",
            "|         1|          EWR|      Newark Airport|         EWR|\n",
            "|         2|       Queens|         Jamaica Bay|   Boro Zone|\n",
            "|         3|        Bronx|Allerton/Pelham G...|   Boro Zone|\n",
            "|         4|    Manhattan|       Alphabet City| Yellow Zone|\n",
            "|         5|Staten Island|       Arden Heights|   Boro Zone|\n",
            "|         6|Staten Island|Arrochar/Fort Wad...|   Boro Zone|\n",
            "|         7|       Queens|             Astoria|   Boro Zone|\n",
            "|         8|       Queens|        Astoria Park|   Boro Zone|\n",
            "|         9|       Queens|          Auburndale|   Boro Zone|\n",
            "|        10|       Queens|        Baisley Park|   Boro Zone|\n",
            "+----------+-------------+--------------------+------------+\n",
            "only showing top 10 rows\n",
            "\n"
          ]
        }
      ]
    },
    {
      "cell_type": "code",
      "source": [
        "df_zpu = df_zones \\\n",
        "    .withColumnRenamed('LocationID', 'zpuLocationID') \\\n",
        "    .withColumnRenamed('Zone', 'zpuZone') \\\n",
        "    .drop('Borough', 'service_zone')\n",
        "\n",
        "df_zdo = df_zones \\\n",
        "    .withColumnRenamed('LocationID', 'zdoLocationID') \\\n",
        "    .withColumnRenamed('Zone', 'zdoZone') \\\n",
        "    .drop('Borough', 'service_zone')"
      ],
      "metadata": {
        "id": "pQby_5SiYspM"
      },
      "execution_count": 27,
      "outputs": []
    },
    {
      "cell_type": "code",
      "source": [
        "df_join = df_fhvhv \\\n",
        "    .join(df_zpu, df_fhvhv.PULocationID == df_zpu.zpuLocationID) \\\n",
        "    .join(df_zdo, df_fhvhv.DOLocationID == df_zdo.zdoLocationID)"
      ],
      "metadata": {
        "id": "WvMvNFn7Yvn0"
      },
      "execution_count": 28,
      "outputs": []
    },
    {
      "cell_type": "code",
      "source": [
        "df_join.show(10)"
      ],
      "metadata": {
        "colab": {
          "base_uri": "https://localhost:8080/"
        },
        "id": "7VchLiufYxdT",
        "outputId": "bdde590a-a998-423b-9b3a-1be1bf9c5008"
      },
      "execution_count": 29,
      "outputs": [
        {
          "output_type": "stream",
          "name": "stdout",
          "text": [
            "+-----------------+--------------------+-------------------+-------------------+------------+------------+-------+-----------+-------------+--------------------+-------------+--------------------+\n",
            "|hvfhs_license_num|dispatching_base_num|    pickup_datetime|   dropoff_datetime|PULocationID|DOLocationID|SR_Flag|pickup_date|zpuLocationID|             zpuZone|zdoLocationID|             zdoZone|\n",
            "+-----------------+--------------------+-------------------+-------------------+------------+------------+-------+-----------+-------------+--------------------+-------------+--------------------+\n",
            "|           HV0003|              B02887|2021-02-06 01:18:35|2021-02-06 01:40:34|         163|         235|   null| 2021-02-06|          163|       Midtown North|          235|University Height...|\n",
            "|           HV0005|              B02510|2021-02-05 07:13:06|2021-02-05 07:31:56|         225|         181|   null| 2021-02-05|          225|  Stuyvesant Heights|          181|          Park Slope|\n",
            "|           HV0003|              B02869|2021-02-04 16:56:52|2021-02-04 17:21:36|         260|          95|   null| 2021-02-04|          260|            Woodside|           95|        Forest Hills|\n",
            "|           HV0003|              B02871|2021-02-03 18:34:17|2021-02-03 18:57:12|         235|          60|   null| 2021-02-03|          235|University Height...|           60|   Crotona Park East|\n",
            "|           HV0003|              B02869|2021-02-04 07:25:09|2021-02-04 07:30:34|          55|          55|   null| 2021-02-04|           55|        Coney Island|           55|        Coney Island|\n",
            "|           HV0003|              B02836|2021-02-04 23:15:27|2021-02-04 23:34:29|          74|          81|   null| 2021-02-04|           74|   East Harlem North|           81|         Eastchester|\n",
            "|           HV0003|              B02882|2021-02-05 07:45:49|2021-02-05 08:05:03|         239|         231|   null| 2021-02-05|          239|Upper West Side S...|          231|TriBeCa/Civic Center|\n",
            "|           HV0003|              B02887|2021-02-03 17:33:59|2021-02-03 17:47:14|          95|         196|   null| 2021-02-03|           95|        Forest Hills|          196|           Rego Park|\n",
            "|           HV0003|              B02877|2021-02-03 09:33:06|2021-02-03 09:45:59|         241|         265|   null| 2021-02-03|          241|Van Cortlandt Vil...|          265|                  NA|\n",
            "|           HV0003|              B02872|2021-02-02 12:58:46|2021-02-02 13:06:20|          90|         137|   null| 2021-02-02|           90|            Flatiron|          137|            Kips Bay|\n",
            "+-----------------+--------------------+-------------------+-------------------+------------+------------+-------+-----------+-------------+--------------------+-------------+--------------------+\n",
            "only showing top 10 rows\n",
            "\n"
          ]
        }
      ]
    },
    {
      "cell_type": "code",
      "source": [
        "df_join \\\n",
        "    .drop('SR_Flag', 'pickup_date', 'zpuLocationID', 'zdoLocationID') \\\n",
        "    .write.parquet('/content/parquet/locations-pairs')"
      ],
      "metadata": {
        "id": "OHdHiprwYyib"
      },
      "execution_count": 31,
      "outputs": []
    },
    {
      "cell_type": "code",
      "source": [
        "df_join.registerTempTable('locations_table')"
      ],
      "metadata": {
        "id": "SHEz1mjrY0y7"
      },
      "execution_count": 32,
      "outputs": []
    },
    {
      "cell_type": "code",
      "source": [
        "spark.sql(\"\"\"\n",
        "SELECT \n",
        "    CONCAT(COALESCE(zpuZone, 'Unknown'), '/', COALESCE(zdoZone, 'Unknown')) AS locations,\n",
        "    COUNT(1) AS trips\n",
        "FROM \n",
        "    locations_table\n",
        "GROUP BY \n",
        "    locations\n",
        "ORDER BY \n",
        "    trips DESC\n",
        "\"\"\").show(10)"
      ],
      "metadata": {
        "colab": {
          "base_uri": "https://localhost:8080/"
        },
        "id": "HcCwfDubY9e7",
        "outputId": "57c518cd-2aa1-48e4-abdf-37f7489db98d"
      },
      "execution_count": 33,
      "outputs": [
        {
          "output_type": "stream",
          "name": "stdout",
          "text": [
            "+--------------------+-----+\n",
            "|           locations|trips|\n",
            "+--------------------+-----+\n",
            "|East New York/Eas...|45041|\n",
            "|Borough Park/Boro...|37329|\n",
            "|   Canarsie/Canarsie|28026|\n",
            "|Crown Heights Nor...|25976|\n",
            "| Bay Ridge/Bay Ridge|17934|\n",
            "|Jackson Heights/J...|14688|\n",
            "|     Astoria/Astoria|14688|\n",
            "|Central Harlem No...|14481|\n",
            "|Bushwick South/Bu...|14424|\n",
            "|Flatbush/Ditmas P...|13976|\n",
            "+--------------------+-----+\n",
            "only showing top 10 rows\n",
            "\n"
          ]
        }
      ]
    },
    {
      "cell_type": "code",
      "source": [
        ""
      ],
      "metadata": {
        "id": "a_w3-Y-VY_Iz"
      },
      "execution_count": null,
      "outputs": []
    }
  ]
}